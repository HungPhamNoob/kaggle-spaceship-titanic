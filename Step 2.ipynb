{
 "cells": [
  {
   "cell_type": "markdown",
   "id": "77d9a83a-95e0-4283-b4c9-cc0cb7615267",
   "metadata": {},
   "source": [
    "## Step 2: Data preparation"
   ]
  },
  {
   "cell_type": "code",
   "execution_count": 1,
   "id": "3031de0f-ec62-4f4c-ad9e-45be544d134a",
   "metadata": {},
   "outputs": [],
   "source": [
    "import pandas as pd\n",
    "import numpy as np\n",
    "import seaborn as sns\n",
    "import matplotlib.pyplot as plt"
   ]
  },
  {
   "cell_type": "code",
   "execution_count": null,
   "id": "9c8bac9f-30dd-4835-85b1-269fb754f06c",
   "metadata": {},
   "outputs": [],
   "source": []
  }
 ],
 "metadata": {
  "kernelspec": {
   "display_name": "Python 3 (ipykernel)",
   "language": "python",
   "name": "python3"
  },
  "language_info": {
   "codemirror_mode": {
    "name": "ipython",
    "version": 3
   },
   "file_extension": ".py",
   "mimetype": "text/x-python",
   "name": "python",
   "nbconvert_exporter": "python",
   "pygments_lexer": "ipython3",
   "version": "3.12.4"
  }
 },
 "nbformat": 4,
 "nbformat_minor": 5
}
